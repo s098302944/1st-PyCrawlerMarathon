{
 "cells": [
  {
   "cell_type": "markdown",
   "metadata": {},
   "source": [
    "# Python 下載XML檔案與解析\n",
    "\n",
    "\n",
    "* 了解 xml 檔案格式與內容\n",
    "* 能夠利用套件存取 xml 格式的檔案\n"
   ]
  },
  {
   "cell_type": "markdown",
   "metadata": {},
   "source": [
    "## 作業目標\n",
    "\n",
    "* 比較一下範例檔案中的「File I/O」與「xmltodict」讀出來的內容有什麼差異\n",
    "\n",
    "* 根據範例檔案的結果：\n",
    "    1. 請問高雄市有多少地區有溫度資料？\n",
    "    2. 請取出每一個地區所記錄的第一個時間點跟溫度\n",
    "    3. 請取出第一個地區所記錄的每一個時間點跟溫度"
   ]
  },
  {
   "cell_type": "markdown",
   "metadata": {},
   "source": [
    "### 比較一下範例檔案中的「File I/O」與「xmltodict」讀出來的內容有什麼差異\n"
   ]
  },
  {
   "cell_type": "code",
   "execution_count": 9,
   "metadata": {},
   "outputs": [],
   "source": [
    "import os, sys, xmltodict\n",
    "# File I/O讀檔案\n",
    "fh = open(\"./data/64_72hr_CH.xml\", \"r\", encoding=\"utf-8\")\n",
    "xml = fh.read()\n",
    "fh.close()\n",
    "d = dict(xmltodict.parse(xml))\n",
    "\n",
    "#File I/O單純讀取檔案中的資料，還需要再對資料進行整理。 xmltodict則可直接將檔案中的資料建立成dict\n"
   ]
  },
  {
   "cell_type": "markdown",
   "metadata": {},
   "source": [
    "### 根據範例檔案的結果：\n",
    "\n",
    "1. 請問高雄市有多少地區有溫度資料？\n",
    "2. 請取出每一個地區所記錄的第一個時間點跟溫度\n",
    "3. 請取出第一個地區所記錄的每一個時間點跟溫度"
   ]
  },
  {
   "cell_type": "code",
   "execution_count": 27,
   "metadata": {},
   "outputs": [
    {
     "name": "stdout",
     "output_type": "stream",
     "text": [
      "高雄市裡共有 38 個地區有溫度資料，分別是:\n",
      "\n",
      "1 鹽埕區\n",
      "2 鼓山區\n",
      "3 左營區\n",
      "4 楠梓區\n",
      "5 三民區\n",
      "6 新興區\n",
      "7 前金區\n",
      "8 苓雅區\n",
      "9 前鎮區\n",
      "10 旗津區\n",
      "11 小港區\n",
      "12 鳳山區\n",
      "13 林園區\n",
      "14 大寮區\n",
      "15 大樹區\n",
      "16 大社區\n",
      "17 仁武區\n",
      "18 鳥松區\n",
      "19 岡山區\n",
      "20 橋頭區\n",
      "21 燕巢區\n",
      "22 田寮區\n",
      "23 阿蓮區\n",
      "24 路竹區\n",
      "25 湖內區\n",
      "26 茄萣區\n",
      "27 永安區\n",
      "28 彌陀區\n",
      "29 梓官區\n",
      "30 旗山區\n",
      "31 美濃區\n",
      "32 六龜區\n",
      "33 甲仙區\n",
      "34 杉林區\n",
      "35 內門區\n",
      "36 茂林區\n",
      "37 桃源區\n",
      "38 那瑪夏區\n"
     ]
    }
   ],
   "source": [
    "# 1. 請問高雄市有多少地區有溫度資料？\n",
    "print('高雄市裡共有', len(d['cwbopendata']['dataset']['locations']['location']), '個地區有溫度資料，分別是:\\n')\n",
    "for i, place in enumerate(d['cwbopendata']['dataset']['locations']['location']):\n",
    "    print(i+1 , place['locationName'])\n"
   ]
  },
  {
   "cell_type": "code",
   "execution_count": 63,
   "metadata": {},
   "outputs": [
    {
     "name": "stdout",
     "output_type": "stream",
     "text": [
      "鹽埕區 時間 2019-11-22T06:00:00+08:00 溫度 21 °C\n",
      "鼓山區 時間 2019-11-22T06:00:00+08:00 溫度 21 °C\n",
      "左營區 時間 2019-11-22T06:00:00+08:00 溫度 20 °C\n",
      "楠梓區 時間 2019-11-22T06:00:00+08:00 溫度 20 °C\n",
      "三民區 時間 2019-11-22T06:00:00+08:00 溫度 20 °C\n",
      "新興區 時間 2019-11-22T06:00:00+08:00 溫度 21 °C\n",
      "前金區 時間 2019-11-22T06:00:00+08:00 溫度 21 °C\n",
      "苓雅區 時間 2019-11-22T06:00:00+08:00 溫度 21 °C\n",
      "前鎮區 時間 2019-11-22T06:00:00+08:00 溫度 21 °C\n",
      "旗津區 時間 2019-11-22T06:00:00+08:00 溫度 21 °C\n",
      "小港區 時間 2019-11-22T06:00:00+08:00 溫度 20 °C\n",
      "鳳山區 時間 2019-11-22T06:00:00+08:00 溫度 20 °C\n",
      "林園區 時間 2019-11-22T06:00:00+08:00 溫度 20 °C\n",
      "大寮區 時間 2019-11-22T06:00:00+08:00 溫度 20 °C\n",
      "大樹區 時間 2019-11-22T06:00:00+08:00 溫度 19 °C\n",
      "大社區 時間 2019-11-22T06:00:00+08:00 溫度 19 °C\n",
      "仁武區 時間 2019-11-22T06:00:00+08:00 溫度 19 °C\n",
      "鳥松區 時間 2019-11-22T06:00:00+08:00 溫度 19 °C\n",
      "岡山區 時間 2019-11-22T06:00:00+08:00 溫度 20 °C\n",
      "橋頭區 時間 2019-11-22T06:00:00+08:00 溫度 20 °C\n",
      "燕巢區 時間 2019-11-22T06:00:00+08:00 溫度 20 °C\n",
      "田寮區 時間 2019-11-22T06:00:00+08:00 溫度 19 °C\n",
      "阿蓮區 時間 2019-11-22T06:00:00+08:00 溫度 20 °C\n",
      "路竹區 時間 2019-11-22T06:00:00+08:00 溫度 21 °C\n",
      "湖內區 時間 2019-11-22T06:00:00+08:00 溫度 20 °C\n",
      "茄萣區 時間 2019-11-22T06:00:00+08:00 溫度 20 °C\n",
      "永安區 時間 2019-11-22T06:00:00+08:00 溫度 20 °C\n",
      "彌陀區 時間 2019-11-22T06:00:00+08:00 溫度 20 °C\n",
      "梓官區 時間 2019-11-22T06:00:00+08:00 溫度 20 °C\n",
      "旗山區 時間 2019-11-22T06:00:00+08:00 溫度 19 °C\n",
      "美濃區 時間 2019-11-22T06:00:00+08:00 溫度 20 °C\n",
      "六龜區 時間 2019-11-22T06:00:00+08:00 溫度 19 °C\n",
      "甲仙區 時間 2019-11-22T06:00:00+08:00 溫度 17 °C\n",
      "杉林區 時間 2019-11-22T06:00:00+08:00 溫度 18 °C\n",
      "內門區 時間 2019-11-22T06:00:00+08:00 溫度 18 °C\n",
      "茂林區 時間 2019-11-22T06:00:00+08:00 溫度 19 °C\n",
      "桃源區 時間 2019-11-22T06:00:00+08:00 溫度 17 °C\n",
      "那瑪夏區 時間 2019-11-22T06:00:00+08:00 溫度 17 °C\n"
     ]
    }
   ],
   "source": [
    "# 2. 請取出每一個地區所記錄的第一個時間點跟溫度\n",
    "for k in d['cwbopendata']['dataset']['locations']['location']:\n",
    "    print(k['locationName'], '時間', k['weatherElement'][0]['time'][0]['dataTime'], '溫度',k['weatherElement'][0]['time'][0]['elementValue']['value'], '°C' )"
   ]
  },
  {
   "cell_type": "code",
   "execution_count": 88,
   "metadata": {},
   "outputs": [
    {
     "name": "stdout",
     "output_type": "stream",
     "text": [
      "elementName\n",
      "description\n",
      "time\n"
     ]
    }
   ],
   "source": [
    "# 3. 請取出第一個地區所記錄的每一個時間點跟溫度\n",
    "for k in d['cwbopendata']['dataset']['locations']['location'][0]['weatherElement'][0]:\n",
    "    print(k)"
   ]
  },
  {
   "cell_type": "code",
   "execution_count": null,
   "metadata": {},
   "outputs": [],
   "source": []
  },
  {
   "cell_type": "code",
   "execution_count": null,
   "metadata": {},
   "outputs": [],
   "source": []
  },
  {
   "cell_type": "code",
   "execution_count": null,
   "metadata": {},
   "outputs": [],
   "source": []
  }
 ],
 "metadata": {
  "kernelspec": {
   "display_name": "Python 3",
   "language": "python",
   "name": "python3"
  },
  "language_info": {
   "codemirror_mode": {
    "name": "ipython",
    "version": 3
   },
   "file_extension": ".py",
   "mimetype": "text/x-python",
   "name": "python",
   "nbconvert_exporter": "python",
   "pygments_lexer": "ipython3",
   "version": "3.7.3"
  }
 },
 "nbformat": 4,
 "nbformat_minor": 2
}
